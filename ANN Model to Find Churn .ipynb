{
 "cells": [
  {
   "cell_type": "markdown",
   "metadata": {
    "colab_type": "text",
    "id": "lP6JLo1tGNBg"
   },
   "source": [
    "# Artificial Neural Network"
   ]
  },
  {
   "cell_type": "markdown",
   "metadata": {
    "colab_type": "text",
    "id": "gWZyYmS_UE_L"
   },
   "source": [
    "### Importing the libraries"
   ]
  },
  {
   "cell_type": "code",
   "execution_count": 1,
   "metadata": {
    "colab": {},
    "colab_type": "code",
    "id": "MxkJoQBkUIHC"
   },
   "outputs": [
    {
     "name": "stdout",
     "output_type": "stream",
     "text": [
      "WARNING:tensorflow:From C:\\Users\\mrjay\\anaconda3\\Lib\\site-packages\\keras\\src\\losses.py:2976: The name tf.losses.sparse_softmax_cross_entropy is deprecated. Please use tf.compat.v1.losses.sparse_softmax_cross_entropy instead.\n",
      "\n"
     ]
    }
   ],
   "source": [
    "import numpy as np\n",
    "import pandas as pd\n",
    "import tensorflow as tf"
   ]
  },
  {
   "cell_type": "markdown",
   "metadata": {
    "colab_type": "text",
    "id": "1E0Q3aoKUCRX"
   },
   "source": [
    "## Part 1 - Data Preprocessing"
   ]
  },
  {
   "cell_type": "markdown",
   "metadata": {
    "colab_type": "text",
    "id": "cKWAkFVGUU0Z"
   },
   "source": [
    "### Importing the dataset"
   ]
  },
  {
   "cell_type": "code",
   "execution_count": 28,
   "metadata": {
    "colab": {},
    "colab_type": "code",
    "id": "MXUkhkMfU4wq"
   },
   "outputs": [],
   "source": [
    "dataset = pd.read_csv('Churn_Modelling.csv')\n",
    "X = dataset.iloc[:, 3:-1].values\n",
    "y = dataset.iloc[:, -1].values"
   ]
  },
  {
   "cell_type": "code",
   "execution_count": 30,
   "metadata": {},
   "outputs": [
    {
     "name": "stdout",
     "output_type": "stream",
     "text": [
      "      RowNumber  CustomerId    Surname  CreditScore Geography  Gender  Age  \\\n",
      "0             1    15634602   Hargrave          619    France  Female   42   \n",
      "1             2    15647311       Hill          608     Spain  Female   41   \n",
      "2             3    15619304       Onio          502    France  Female   42   \n",
      "3             4    15701354       Boni          699    France  Female   39   \n",
      "4             5    15737888   Mitchell          850     Spain  Female   43   \n",
      "...         ...         ...        ...          ...       ...     ...  ...   \n",
      "9995       9996    15606229   Obijiaku          771    France    Male   39   \n",
      "9996       9997    15569892  Johnstone          516    France    Male   35   \n",
      "9997       9998    15584532        Liu          709    France  Female   36   \n",
      "9998       9999    15682355  Sabbatini          772   Germany    Male   42   \n",
      "9999      10000    15628319     Walker          792    France  Female   28   \n",
      "\n",
      "      Tenure    Balance  NumOfProducts  HasCrCard  IsActiveMember  \\\n",
      "0          2       0.00              1          1               1   \n",
      "1          1   83807.86              1          0               1   \n",
      "2          8  159660.80              3          1               0   \n",
      "3          1       0.00              2          0               0   \n",
      "4          2  125510.82              1          1               1   \n",
      "...      ...        ...            ...        ...             ...   \n",
      "9995       5       0.00              2          1               0   \n",
      "9996      10   57369.61              1          1               1   \n",
      "9997       7       0.00              1          0               1   \n",
      "9998       3   75075.31              2          1               0   \n",
      "9999       4  130142.79              1          1               0   \n",
      "\n",
      "      EstimatedSalary  Exited  \n",
      "0           101348.88       1  \n",
      "1           112542.58       0  \n",
      "2           113931.57       1  \n",
      "3            93826.63       0  \n",
      "4            79084.10       0  \n",
      "...               ...     ...  \n",
      "9995         96270.64       0  \n",
      "9996        101699.77       0  \n",
      "9997         42085.58       1  \n",
      "9998         92888.52       1  \n",
      "9999         38190.78       0  \n",
      "\n",
      "[10000 rows x 14 columns]\n"
     ]
    }
   ],
   "source": [
    "print(dataset)"
   ]
  },
  {
   "cell_type": "code",
   "execution_count": 29,
   "metadata": {
    "colab": {
     "base_uri": "https://localhost:8080/",
     "height": 137
    },
    "colab_type": "code",
    "id": "VYP9cQTWbzuI",
    "outputId": "797e7a64-9bac-436a-8c9c-94437e5e7587"
   },
   "outputs": [
    {
     "name": "stdout",
     "output_type": "stream",
     "text": [
      "[[619 'France' 'Female' ... 1 1 101348.88]\n",
      " [608 'Spain' 'Female' ... 0 1 112542.58]\n",
      " [502 'France' 'Female' ... 1 0 113931.57]\n",
      " ...\n",
      " [709 'France' 'Female' ... 0 1 42085.58]\n",
      " [772 'Germany' 'Male' ... 1 0 92888.52]\n",
      " [792 'France' 'Female' ... 1 0 38190.78]]\n"
     ]
    }
   ],
   "source": [
    "print(X)"
   ]
  },
  {
   "cell_type": "code",
   "execution_count": 5,
   "metadata": {
    "colab": {
     "base_uri": "https://localhost:8080/",
     "height": 34
    },
    "colab_type": "code",
    "id": "38vKGE6Nb2RR",
    "outputId": "a815e42a-e0dd-4cb5-ab97-b17ead98fbc3"
   },
   "outputs": [
    {
     "name": "stdout",
     "output_type": "stream",
     "text": [
      "[1 0 1 ... 1 1 0]\n"
     ]
    }
   ],
   "source": [
    "print(y)"
   ]
  },
  {
   "cell_type": "markdown",
   "metadata": {
    "colab_type": "text",
    "id": "N6bQ0UgSU-NJ"
   },
   "source": [
    "### Encoding categorical data"
   ]
  },
  {
   "cell_type": "markdown",
   "metadata": {
    "colab_type": "text",
    "id": "le5MJreAbW52"
   },
   "source": [
    "Label Encoding the \"Gender\" column"
   ]
  },
  {
   "cell_type": "code",
   "execution_count": 6,
   "metadata": {
    "colab": {},
    "colab_type": "code",
    "id": "PxVKWXxLbczC"
   },
   "outputs": [],
   "source": [
    "from sklearn.preprocessing import LabelEncoder\n",
    "le = LabelEncoder()\n",
    "X[:, 2] = le.fit_transform(X[:, 2])"
   ]
  },
  {
   "cell_type": "code",
   "execution_count": 7,
   "metadata": {
    "colab": {
     "base_uri": "https://localhost:8080/",
     "height": 137
    },
    "colab_type": "code",
    "id": "-M1KboxFb6OO",
    "outputId": "e2b8c7e8-0cbc-4cdf-f4eb-7f0853a00b88"
   },
   "outputs": [
    {
     "name": "stdout",
     "output_type": "stream",
     "text": [
      "[[619 'France' 0 ... 1 1 101348.88]\n",
      " [608 'Spain' 0 ... 0 1 112542.58]\n",
      " [502 'France' 0 ... 1 0 113931.57]\n",
      " ...\n",
      " [709 'France' 0 ... 0 1 42085.58]\n",
      " [772 'Germany' 1 ... 1 0 92888.52]\n",
      " [792 'France' 0 ... 1 0 38190.78]]\n"
     ]
    }
   ],
   "source": [
    "print(X)"
   ]
  },
  {
   "cell_type": "markdown",
   "metadata": {
    "colab_type": "text",
    "id": "CUxGZezpbMcb"
   },
   "source": [
    "One Hot Encoding the \"Geography\" column"
   ]
  },
  {
   "cell_type": "code",
   "execution_count": 8,
   "metadata": {
    "colab": {},
    "colab_type": "code",
    "id": "AMXC8-KMVirw"
   },
   "outputs": [],
   "source": [
    "from sklearn.compose import ColumnTransformer\n",
    "from sklearn.preprocessing import OneHotEncoder\n",
    "ct = ColumnTransformer(transformers=[('encoder', OneHotEncoder(), [1])], remainder='passthrough')\n",
    "X = np.array(ct.fit_transform(X))"
   ]
  },
  {
   "cell_type": "code",
   "execution_count": 9,
   "metadata": {
    "colab": {
     "base_uri": "https://localhost:8080/",
     "height": 137
    },
    "colab_type": "code",
    "id": "ZcxwEon-b8nV",
    "outputId": "23a98af4-5e33-4b26-c27b-f06e3c5d2baf"
   },
   "outputs": [
    {
     "name": "stdout",
     "output_type": "stream",
     "text": [
      "[[1.0 0.0 0.0 ... 1 1 101348.88]\n",
      " [0.0 0.0 1.0 ... 0 1 112542.58]\n",
      " [1.0 0.0 0.0 ... 1 0 113931.57]\n",
      " ...\n",
      " [1.0 0.0 0.0 ... 0 1 42085.58]\n",
      " [0.0 1.0 0.0 ... 1 0 92888.52]\n",
      " [1.0 0.0 0.0 ... 1 0 38190.78]]\n"
     ]
    }
   ],
   "source": [
    "print(X)"
   ]
  },
  {
   "cell_type": "markdown",
   "metadata": {
    "colab_type": "text",
    "id": "vHol938cW8zd"
   },
   "source": [
    "### Splitting the dataset into the Training set and Test set"
   ]
  },
  {
   "cell_type": "code",
   "execution_count": 10,
   "metadata": {
    "colab": {},
    "colab_type": "code",
    "id": "Z-TDt0Y_XEfc"
   },
   "outputs": [],
   "source": [
    "from sklearn.model_selection import train_test_split\n",
    "X_train, X_test, y_train, y_test = train_test_split(X, y, test_size = 0.2, random_state = 0)"
   ]
  },
  {
   "cell_type": "markdown",
   "metadata": {
    "colab_type": "text",
    "id": "RE_FcHyfV3TQ"
   },
   "source": [
    "### Feature Scaling"
   ]
  },
  {
   "cell_type": "code",
   "execution_count": 11,
   "metadata": {
    "colab": {},
    "colab_type": "code",
    "id": "ViCrE00rV8Sk"
   },
   "outputs": [],
   "source": [
    "from sklearn.preprocessing import StandardScaler\n",
    "sc = StandardScaler()\n",
    "X_train = sc.fit_transform(X_train)\n",
    "X_test = sc.transform(X_test)"
   ]
  },
  {
   "cell_type": "markdown",
   "metadata": {
    "colab_type": "text",
    "id": "-zfEzkRVXIwF"
   },
   "source": [
    "## Part 2 - Building the ANN"
   ]
  },
  {
   "cell_type": "markdown",
   "metadata": {
    "colab_type": "text",
    "id": "KvdeScabXtlB"
   },
   "source": [
    "### Initializing the ANN"
   ]
  },
  {
   "cell_type": "code",
   "execution_count": 12,
   "metadata": {
    "colab": {},
    "colab_type": "code",
    "id": "3dtrScHxXQox"
   },
   "outputs": [
    {
     "name": "stdout",
     "output_type": "stream",
     "text": [
      "WARNING:tensorflow:From C:\\Users\\mrjay\\anaconda3\\Lib\\site-packages\\keras\\src\\backend.py:873: The name tf.get_default_graph is deprecated. Please use tf.compat.v1.get_default_graph instead.\n",
      "\n"
     ]
    }
   ],
   "source": [
    "ann = tf.keras.models.Sequential()"
   ]
  },
  {
   "cell_type": "markdown",
   "metadata": {
    "colab_type": "text",
    "id": "rP6urV6SX7kS"
   },
   "source": [
    "### Adding the input layer and the first hidden layer"
   ]
  },
  {
   "cell_type": "code",
   "execution_count": 13,
   "metadata": {
    "colab": {},
    "colab_type": "code",
    "id": "bppGycBXYCQr"
   },
   "outputs": [],
   "source": [
    "ann.add(tf.keras.layers.Dense(units=6, activation='relu'))"
   ]
  },
  {
   "cell_type": "markdown",
   "metadata": {
    "colab_type": "text",
    "id": "BELWAc_8YJze"
   },
   "source": [
    "### Adding the second hidden layer"
   ]
  },
  {
   "cell_type": "code",
   "execution_count": 14,
   "metadata": {
    "colab": {},
    "colab_type": "code",
    "id": "JneR0u0sYRTd"
   },
   "outputs": [],
   "source": [
    "ann.add(tf.keras.layers.Dense(units=6, activation='relu'))"
   ]
  },
  {
   "cell_type": "markdown",
   "metadata": {
    "colab_type": "text",
    "id": "OyNEe6RXYcU4"
   },
   "source": [
    "### Adding the output layer"
   ]
  },
  {
   "cell_type": "code",
   "execution_count": 15,
   "metadata": {
    "colab": {},
    "colab_type": "code",
    "id": "Cn3x41RBYfvY"
   },
   "outputs": [],
   "source": [
    "ann.add(tf.keras.layers.Dense(units=1, activation='sigmoid'))"
   ]
  },
  {
   "cell_type": "markdown",
   "metadata": {
    "colab_type": "text",
    "id": "JT4u2S1_Y4WG"
   },
   "source": [
    "## Part 3 - Training the ANN"
   ]
  },
  {
   "cell_type": "markdown",
   "metadata": {
    "colab_type": "text",
    "id": "8GWlJChhY_ZI"
   },
   "source": [
    "### Compiling the ANN"
   ]
  },
  {
   "cell_type": "code",
   "execution_count": 16,
   "metadata": {
    "colab": {},
    "colab_type": "code",
    "id": "fG3RrwDXZEaS"
   },
   "outputs": [
    {
     "name": "stdout",
     "output_type": "stream",
     "text": [
      "WARNING:tensorflow:From C:\\Users\\mrjay\\anaconda3\\Lib\\site-packages\\keras\\src\\optimizers\\__init__.py:309: The name tf.train.Optimizer is deprecated. Please use tf.compat.v1.train.Optimizer instead.\n",
      "\n"
     ]
    }
   ],
   "source": [
    "ann.compile(optimizer = 'adam', loss = 'binary_crossentropy', metrics = ['accuracy'])"
   ]
  },
  {
   "cell_type": "markdown",
   "metadata": {
    "colab_type": "text",
    "id": "0QR_G5u7ZLSM"
   },
   "source": [
    "### Training the ANN on the Training set"
   ]
  },
  {
   "cell_type": "code",
   "execution_count": 17,
   "metadata": {
    "colab": {
     "base_uri": "https://localhost:8080/",
     "height": 1000
    },
    "colab_type": "code",
    "id": "nHZ-LKv_ZRb3",
    "outputId": "718cc4b0-b5aa-40f0-9b20-d3d31730a531"
   },
   "outputs": [
    {
     "name": "stdout",
     "output_type": "stream",
     "text": [
      "Epoch 1/110\n",
      "WARNING:tensorflow:From C:\\Users\\mrjay\\anaconda3\\Lib\\site-packages\\keras\\src\\utils\\tf_utils.py:492: The name tf.ragged.RaggedTensorValue is deprecated. Please use tf.compat.v1.ragged.RaggedTensorValue instead.\n",
      "\n",
      "WARNING:tensorflow:From C:\\Users\\mrjay\\anaconda3\\Lib\\site-packages\\keras\\src\\engine\\base_layer_utils.py:384: The name tf.executing_eagerly_outside_functions is deprecated. Please use tf.compat.v1.executing_eagerly_outside_functions instead.\n",
      "\n",
      "250/250 [==============================] - 1s 1ms/step - loss: 0.5818 - accuracy: 0.7121\n",
      "Epoch 2/110\n",
      "250/250 [==============================] - 0s 983us/step - loss: 0.4753 - accuracy: 0.7966\n",
      "Epoch 3/110\n",
      "250/250 [==============================] - 0s 937us/step - loss: 0.4553 - accuracy: 0.7974\n",
      "Epoch 4/110\n",
      "250/250 [==============================] - 0s 993us/step - loss: 0.4443 - accuracy: 0.7999\n",
      "Epoch 5/110\n",
      "250/250 [==============================] - 0s 978us/step - loss: 0.4364 - accuracy: 0.8020\n",
      "Epoch 6/110\n",
      "250/250 [==============================] - 0s 972us/step - loss: 0.4305 - accuracy: 0.8034\n",
      "Epoch 7/110\n",
      "250/250 [==============================] - 0s 1ms/step - loss: 0.4255 - accuracy: 0.8069\n",
      "Epoch 8/110\n",
      "250/250 [==============================] - 0s 1ms/step - loss: 0.4207 - accuracy: 0.8133\n",
      "Epoch 9/110\n",
      "250/250 [==============================] - 0s 1ms/step - loss: 0.4171 - accuracy: 0.8181\n",
      "Epoch 10/110\n",
      "250/250 [==============================] - 0s 1ms/step - loss: 0.4135 - accuracy: 0.8205\n",
      "Epoch 11/110\n",
      "250/250 [==============================] - 0s 1ms/step - loss: 0.4104 - accuracy: 0.8255\n",
      "Epoch 12/110\n",
      "250/250 [==============================] - 0s 1ms/step - loss: 0.4071 - accuracy: 0.8284\n",
      "Epoch 13/110\n",
      "250/250 [==============================] - 0s 2ms/step - loss: 0.4038 - accuracy: 0.8294\n",
      "Epoch 14/110\n",
      "250/250 [==============================] - 0s 1ms/step - loss: 0.4003 - accuracy: 0.8311\n",
      "Epoch 15/110\n",
      "250/250 [==============================] - 0s 1ms/step - loss: 0.3952 - accuracy: 0.8326\n",
      "Epoch 16/110\n",
      "250/250 [==============================] - 0s 1ms/step - loss: 0.3885 - accuracy: 0.8370\n",
      "Epoch 17/110\n",
      "250/250 [==============================] - 0s 1ms/step - loss: 0.3791 - accuracy: 0.8411\n",
      "Epoch 18/110\n",
      "250/250 [==============================] - 0s 961us/step - loss: 0.3691 - accuracy: 0.8487\n",
      "Epoch 19/110\n",
      "250/250 [==============================] - 0s 1ms/step - loss: 0.3598 - accuracy: 0.8528\n",
      "Epoch 20/110\n",
      "250/250 [==============================] - 0s 964us/step - loss: 0.3531 - accuracy: 0.8580\n",
      "Epoch 21/110\n",
      "250/250 [==============================] - 0s 996us/step - loss: 0.3493 - accuracy: 0.8599\n",
      "Epoch 22/110\n",
      "250/250 [==============================] - 0s 1ms/step - loss: 0.3469 - accuracy: 0.8605\n",
      "Epoch 23/110\n",
      "250/250 [==============================] - 0s 2ms/step - loss: 0.3449 - accuracy: 0.8606\n",
      "Epoch 24/110\n",
      "250/250 [==============================] - 0s 1ms/step - loss: 0.3434 - accuracy: 0.8615\n",
      "Epoch 25/110\n",
      "250/250 [==============================] - 0s 2ms/step - loss: 0.3429 - accuracy: 0.8621\n",
      "Epoch 26/110\n",
      "250/250 [==============================] - 0s 989us/step - loss: 0.3422 - accuracy: 0.8614\n",
      "Epoch 27/110\n",
      "250/250 [==============================] - 0s 1ms/step - loss: 0.3418 - accuracy: 0.8609\n",
      "Epoch 28/110\n",
      "250/250 [==============================] - 0s 2ms/step - loss: 0.3408 - accuracy: 0.8620\n",
      "Epoch 29/110\n",
      "250/250 [==============================] - 0s 1ms/step - loss: 0.3408 - accuracy: 0.8618\n",
      "Epoch 30/110\n",
      "250/250 [==============================] - 0s 1ms/step - loss: 0.3400 - accuracy: 0.8608\n",
      "Epoch 31/110\n",
      "250/250 [==============================] - 0s 1ms/step - loss: 0.3392 - accuracy: 0.8626\n",
      "Epoch 32/110\n",
      "250/250 [==============================] - 0s 987us/step - loss: 0.3389 - accuracy: 0.8614\n",
      "Epoch 33/110\n",
      "250/250 [==============================] - 0s 921us/step - loss: 0.3387 - accuracy: 0.8615\n",
      "Epoch 34/110\n",
      "250/250 [==============================] - 0s 1ms/step - loss: 0.3379 - accuracy: 0.8611\n",
      "Epoch 35/110\n",
      "250/250 [==============================] - 0s 2ms/step - loss: 0.3378 - accuracy: 0.8618\n",
      "Epoch 36/110\n",
      "250/250 [==============================] - 0s 995us/step - loss: 0.3374 - accuracy: 0.8622\n",
      "Epoch 37/110\n",
      "250/250 [==============================] - 0s 1ms/step - loss: 0.3370 - accuracy: 0.8609\n",
      "Epoch 38/110\n",
      "250/250 [==============================] - 0s 1ms/step - loss: 0.3366 - accuracy: 0.8616\n",
      "Epoch 39/110\n",
      "250/250 [==============================] - 0s 2ms/step - loss: 0.3364 - accuracy: 0.8612\n",
      "Epoch 40/110\n",
      "250/250 [==============================] - 0s 1ms/step - loss: 0.3365 - accuracy: 0.8627\n",
      "Epoch 41/110\n",
      "250/250 [==============================] - 0s 1ms/step - loss: 0.3362 - accuracy: 0.8619\n",
      "Epoch 42/110\n",
      "250/250 [==============================] - 0s 1ms/step - loss: 0.3357 - accuracy: 0.8618\n",
      "Epoch 43/110\n",
      "250/250 [==============================] - 0s 1ms/step - loss: 0.3357 - accuracy: 0.8625\n",
      "Epoch 44/110\n",
      "250/250 [==============================] - 0s 1ms/step - loss: 0.3355 - accuracy: 0.8627\n",
      "Epoch 45/110\n",
      "250/250 [==============================] - 0s 1ms/step - loss: 0.3354 - accuracy: 0.8633\n",
      "Epoch 46/110\n",
      "250/250 [==============================] - 0s 1ms/step - loss: 0.3352 - accuracy: 0.8622\n",
      "Epoch 47/110\n",
      "250/250 [==============================] - 0s 1ms/step - loss: 0.3353 - accuracy: 0.8611\n",
      "Epoch 48/110\n",
      "250/250 [==============================] - 0s 1ms/step - loss: 0.3352 - accuracy: 0.8626\n",
      "Epoch 49/110\n",
      "250/250 [==============================] - 0s 1ms/step - loss: 0.3349 - accuracy: 0.8622\n",
      "Epoch 50/110\n",
      "250/250 [==============================] - 0s 1ms/step - loss: 0.3350 - accuracy: 0.8618\n",
      "Epoch 51/110\n",
      "250/250 [==============================] - 0s 1ms/step - loss: 0.3346 - accuracy: 0.8635\n",
      "Epoch 52/110\n",
      "250/250 [==============================] - 0s 1ms/step - loss: 0.3352 - accuracy: 0.8615\n",
      "Epoch 53/110\n",
      "250/250 [==============================] - 0s 949us/step - loss: 0.3345 - accuracy: 0.8619\n",
      "Epoch 54/110\n",
      "250/250 [==============================] - 0s 945us/step - loss: 0.3342 - accuracy: 0.8625\n",
      "Epoch 55/110\n",
      "250/250 [==============================] - 0s 994us/step - loss: 0.3343 - accuracy: 0.8634\n",
      "Epoch 56/110\n",
      "250/250 [==============================] - 0s 1ms/step - loss: 0.3345 - accuracy: 0.8618\n",
      "Epoch 57/110\n",
      "250/250 [==============================] - 0s 990us/step - loss: 0.3342 - accuracy: 0.8631\n",
      "Epoch 58/110\n",
      "250/250 [==============================] - 0s 967us/step - loss: 0.3343 - accuracy: 0.8640\n",
      "Epoch 59/110\n",
      "250/250 [==============================] - 0s 959us/step - loss: 0.3343 - accuracy: 0.8627\n",
      "Epoch 60/110\n",
      "250/250 [==============================] - 0s 933us/step - loss: 0.3338 - accuracy: 0.8611\n",
      "Epoch 61/110\n",
      "250/250 [==============================] - 0s 1ms/step - loss: 0.3343 - accuracy: 0.8625\n",
      "Epoch 62/110\n",
      "250/250 [==============================] - 0s 1ms/step - loss: 0.3342 - accuracy: 0.8637\n",
      "Epoch 63/110\n",
      "250/250 [==============================] - 0s 1ms/step - loss: 0.3338 - accuracy: 0.8630\n",
      "Epoch 64/110\n",
      "250/250 [==============================] - 0s 1ms/step - loss: 0.3338 - accuracy: 0.8619\n",
      "Epoch 65/110\n",
      "250/250 [==============================] - 0s 1ms/step - loss: 0.3337 - accuracy: 0.8625\n",
      "Epoch 66/110\n",
      "250/250 [==============================] - 0s 951us/step - loss: 0.3335 - accuracy: 0.8622\n",
      "Epoch 67/110\n",
      "250/250 [==============================] - 0s 1ms/step - loss: 0.3335 - accuracy: 0.8624\n",
      "Epoch 68/110\n",
      "250/250 [==============================] - 0s 2ms/step - loss: 0.3335 - accuracy: 0.8621\n",
      "Epoch 69/110\n",
      "250/250 [==============================] - 0s 1ms/step - loss: 0.3335 - accuracy: 0.8627\n",
      "Epoch 70/110\n",
      "250/250 [==============================] - 0s 1ms/step - loss: 0.3336 - accuracy: 0.8611\n",
      "Epoch 71/110\n",
      "250/250 [==============================] - 0s 890us/step - loss: 0.3342 - accuracy: 0.8625\n",
      "Epoch 72/110\n",
      "250/250 [==============================] - 0s 2ms/step - loss: 0.3333 - accuracy: 0.8631\n",
      "Epoch 73/110\n",
      "250/250 [==============================] - 0s 2ms/step - loss: 0.3334 - accuracy: 0.8620\n",
      "Epoch 74/110\n",
      "250/250 [==============================] - 0s 1ms/step - loss: 0.3333 - accuracy: 0.8630\n",
      "Epoch 75/110\n",
      "250/250 [==============================] - 0s 986us/step - loss: 0.3332 - accuracy: 0.8635\n",
      "Epoch 76/110\n"
     ]
    },
    {
     "name": "stdout",
     "output_type": "stream",
     "text": [
      "250/250 [==============================] - 0s 988us/step - loss: 0.3332 - accuracy: 0.8633\n",
      "Epoch 77/110\n",
      "250/250 [==============================] - 0s 943us/step - loss: 0.3331 - accuracy: 0.8622\n",
      "Epoch 78/110\n",
      "250/250 [==============================] - 0s 916us/step - loss: 0.3329 - accuracy: 0.8631\n",
      "Epoch 79/110\n",
      "250/250 [==============================] - 0s 964us/step - loss: 0.3330 - accuracy: 0.8625\n",
      "Epoch 80/110\n",
      "250/250 [==============================] - 0s 1ms/step - loss: 0.3333 - accuracy: 0.8626\n",
      "Epoch 81/110\n",
      "250/250 [==============================] - 0s 1ms/step - loss: 0.3331 - accuracy: 0.8626\n",
      "Epoch 82/110\n",
      "250/250 [==============================] - 0s 1ms/step - loss: 0.3330 - accuracy: 0.8631\n",
      "Epoch 83/110\n",
      "250/250 [==============================] - 0s 933us/step - loss: 0.3326 - accuracy: 0.8648\n",
      "Epoch 84/110\n",
      "250/250 [==============================] - 0s 938us/step - loss: 0.3327 - accuracy: 0.8619\n",
      "Epoch 85/110\n",
      "250/250 [==============================] - 0s 987us/step - loss: 0.3331 - accuracy: 0.8624\n",
      "Epoch 86/110\n",
      "250/250 [==============================] - 0s 942us/step - loss: 0.3326 - accuracy: 0.8639\n",
      "Epoch 87/110\n",
      "250/250 [==============================] - 0s 978us/step - loss: 0.3326 - accuracy: 0.8626\n",
      "Epoch 88/110\n",
      "250/250 [==============================] - 0s 939us/step - loss: 0.3326 - accuracy: 0.8629\n",
      "Epoch 89/110\n",
      "250/250 [==============================] - 0s 1ms/step - loss: 0.3327 - accuracy: 0.8629\n",
      "Epoch 90/110\n",
      "250/250 [==============================] - 0s 981us/step - loss: 0.3326 - accuracy: 0.8620\n",
      "Epoch 91/110\n",
      "250/250 [==============================] - 0s 969us/step - loss: 0.3328 - accuracy: 0.8637\n",
      "Epoch 92/110\n",
      "250/250 [==============================] - 0s 971us/step - loss: 0.3327 - accuracy: 0.8619\n",
      "Epoch 93/110\n",
      "250/250 [==============================] - 0s 973us/step - loss: 0.3325 - accuracy: 0.8644\n",
      "Epoch 94/110\n",
      "250/250 [==============================] - 0s 1ms/step - loss: 0.3327 - accuracy: 0.8618\n",
      "Epoch 95/110\n",
      "250/250 [==============================] - 0s 1ms/step - loss: 0.3327 - accuracy: 0.8625\n",
      "Epoch 96/110\n",
      "250/250 [==============================] - 0s 943us/step - loss: 0.3325 - accuracy: 0.8633\n",
      "Epoch 97/110\n",
      "250/250 [==============================] - 0s 993us/step - loss: 0.3325 - accuracy: 0.8622\n",
      "Epoch 98/110\n",
      "250/250 [==============================] - 0s 970us/step - loss: 0.3323 - accuracy: 0.8634\n",
      "Epoch 99/110\n",
      "250/250 [==============================] - 0s 902us/step - loss: 0.3326 - accuracy: 0.8643\n",
      "Epoch 100/110\n",
      "250/250 [==============================] - 0s 978us/step - loss: 0.3324 - accuracy: 0.8633\n",
      "Epoch 101/110\n",
      "250/250 [==============================] - 0s 1ms/step - loss: 0.3324 - accuracy: 0.8634\n",
      "Epoch 102/110\n",
      "250/250 [==============================] - 0s 1ms/step - loss: 0.3323 - accuracy: 0.8636\n",
      "Epoch 103/110\n",
      "250/250 [==============================] - 0s 959us/step - loss: 0.3326 - accuracy: 0.8641\n",
      "Epoch 104/110\n",
      "250/250 [==============================] - 0s 978us/step - loss: 0.3323 - accuracy: 0.8629\n",
      "Epoch 105/110\n",
      "250/250 [==============================] - 0s 900us/step - loss: 0.3325 - accuracy: 0.8633\n",
      "Epoch 106/110\n",
      "250/250 [==============================] - 0s 969us/step - loss: 0.3322 - accuracy: 0.8644\n",
      "Epoch 107/110\n",
      "250/250 [==============================] - 0s 968us/step - loss: 0.3319 - accuracy: 0.8637\n",
      "Epoch 108/110\n",
      "250/250 [==============================] - 0s 890us/step - loss: 0.3323 - accuracy: 0.8629\n",
      "Epoch 109/110\n",
      "250/250 [==============================] - 0s 933us/step - loss: 0.3326 - accuracy: 0.8627\n",
      "Epoch 110/110\n",
      "250/250 [==============================] - 0s 893us/step - loss: 0.3321 - accuracy: 0.8650\n"
     ]
    },
    {
     "data": {
      "text/plain": [
       "<keras.src.callbacks.History at 0x21a08fbd0d0>"
      ]
     },
     "execution_count": 17,
     "metadata": {},
     "output_type": "execute_result"
    }
   ],
   "source": [
    "ann.fit(X_train, y_train, batch_size = 32, epochs = 110)"
   ]
  },
  {
   "cell_type": "markdown",
   "metadata": {
    "colab_type": "text",
    "id": "tJj5k2MxZga3"
   },
   "source": [
    "## Part 4 - Making the predictions and evaluating the model"
   ]
  },
  {
   "cell_type": "markdown",
   "metadata": {
    "colab_type": "text",
    "id": "84QFoqGYeXHL"
   },
   "source": [
    "### Predicting the result of a single observation"
   ]
  },
  {
   "cell_type": "code",
   "execution_count": 23,
   "metadata": {
    "colab": {
     "base_uri": "https://localhost:8080/",
     "height": 34
    },
    "colab_type": "code",
    "id": "2d8IoCCkeWGL",
    "outputId": "957f3970-e197-4c3b-a150-7f69dc567f5d",
    "scrolled": true
   },
   "outputs": [
    {
     "name": "stdout",
     "output_type": "stream",
     "text": [
      "1/1 [==============================] - 0s 16ms/step\n",
      "[[False]]\n"
     ]
    }
   ],
   "source": [
    "print(ann.predict(sc.transform([[1, 0, 0, 600, 1, 40, 3, 60000, 2, 1, 1, 50000]])) > 0.5)"
   ]
  },
  {
   "cell_type": "code",
   "execution_count": 27,
   "metadata": {},
   "outputs": [
    {
     "name": "stdout",
     "output_type": "stream",
     "text": [
      "1/1 [==============================] - 0s 16ms/step\n",
      "[[False]]\n"
     ]
    }
   ],
   "source": [
    "print(ann.predict(sc.transform([[0, 1, 0, 750, 1, 10, 3, 80000, 2, 1, 1, 20000]])) > 0.5)"
   ]
  },
  {
   "cell_type": "markdown",
   "metadata": {
    "colab_type": "text",
    "id": "u7yx47jPZt11"
   },
   "source": [
    "### Predicting the Test set results"
   ]
  },
  {
   "cell_type": "code",
   "execution_count": 20,
   "metadata": {
    "colab": {
     "base_uri": "https://localhost:8080/",
     "height": 137
    },
    "colab_type": "code",
    "id": "nIyEeQdRZwgs",
    "outputId": "82330ba8-9bdc-4fd1-d3cf-b6d78ee7c2a3"
   },
   "outputs": [
    {
     "name": "stdout",
     "output_type": "stream",
     "text": [
      "63/63 [==============================] - 0s 789us/step\n",
      "[[0 0]\n",
      " [0 1]\n",
      " [0 0]\n",
      " ...\n",
      " [0 0]\n",
      " [0 0]\n",
      " [0 0]]\n"
     ]
    }
   ],
   "source": [
    "y_pred = ann.predict(X_test)\n",
    "y_pred = (y_pred > 0.5)\n",
    "print(np.concatenate((y_pred.reshape(len(y_pred),1), y_test.reshape(len(y_test),1)),1))"
   ]
  },
  {
   "cell_type": "markdown",
   "metadata": {
    "colab_type": "text",
    "id": "o0oyfLWoaEGw"
   },
   "source": [
    "### Making the Confusion Matrix"
   ]
  },
  {
   "cell_type": "code",
   "execution_count": 21,
   "metadata": {
    "colab": {
     "base_uri": "https://localhost:8080/",
     "height": 68
    },
    "colab_type": "code",
    "id": "ci6K_r6LaF6P",
    "outputId": "4d854e9e-22d5-432f-f6e5-a102fe3ae0bd"
   },
   "outputs": [
    {
     "name": "stdout",
     "output_type": "stream",
     "text": [
      "[[1525   70]\n",
      " [ 207  198]]\n"
     ]
    },
    {
     "data": {
      "text/plain": [
       "0.8615"
      ]
     },
     "execution_count": 21,
     "metadata": {},
     "output_type": "execute_result"
    }
   ],
   "source": [
    "from sklearn.metrics import confusion_matrix, accuracy_score\n",
    "cm = confusion_matrix(y_test, y_pred)\n",
    "print(cm)\n",
    "accuracy_score(y_test, y_pred)"
   ]
  },
  {
   "cell_type": "code",
   "execution_count": null,
   "metadata": {},
   "outputs": [],
   "source": []
  }
 ],
 "metadata": {
  "colab": {
   "collapsed_sections": [],
   "name": "artificial_neural_network.ipynb",
   "provenance": [],
   "toc_visible": true
  },
  "kernelspec": {
   "display_name": "Python 3 (ipykernel)",
   "language": "python",
   "name": "python3"
  },
  "language_info": {
   "codemirror_mode": {
    "name": "ipython",
    "version": 3
   },
   "file_extension": ".py",
   "mimetype": "text/x-python",
   "name": "python",
   "nbconvert_exporter": "python",
   "pygments_lexer": "ipython3",
   "version": "3.11.5"
  }
 },
 "nbformat": 4,
 "nbformat_minor": 1
}
